{
  "cells": [
    {
      "cell_type": "markdown",
      "metadata": {
        "id": "l_KmcMrayEy1"
      },
      "source": [
        "**negrito**# Nova seção"
      ]
    },
    {
      "cell_type": "code",
      "execution_count": null,
      "metadata": {
        "id": "RuDFsNjs_3Sp"
      },
      "outputs": [],
      "source": [
        "#EXERCÍCIO 1\n",
        "\n"
      ]
    },
    {
      "cell_type": "code",
      "execution_count": null,
      "metadata": {
        "id": "2G8Br9RH3-eW"
      },
      "outputs": [],
      "source": [
        "#EXERCÍCIO 2\n",
        "raio = float(input(\"Digite o raio do circulo para saber a área:\"))\n",
        "area = 3.1415 * (raio * raio)\n",
        "print(area)"
      ]
    },
    {
      "cell_type": "code",
      "execution_count": null,
      "metadata": {
        "colab": {
          "base_uri": "https://localhost:8080/"
        },
        "id": "M98xgxM55maF",
        "outputId": "75dffb78-a20b-4103-b0b3-7405442bde9a"
      },
      "outputs": [],
      "source": [
        "#EXERCÍCIO 3\n",
        "raio = float(input(\"Digite o raio do círculo para saber a área:\"))\n",
        "area = 3.1415 * pow(raio,2)\n",
        "print(f\"{area:.2f} é a área do círculo\")"
      ]
    },
    {
      "cell_type": "code",
      "execution_count": null,
      "metadata": {
        "colab": {
          "base_uri": "https://localhost:8080/"
        },
        "id": "REFHKnw38tVZ",
        "outputId": "55b80c5c-f512-47f6-cba7-115fce99f07b"
      },
      "outputs": [],
      "source": [
        "#EXERCÍCIO 4\n",
        "\n",
        "num1 = float(input(\"Digite o primeiro número:\"))\n",
        "num2 = float(input(\"Digite o segundo número:\"))\n",
        "\n",
        "if num1 > num2:\n",
        "  print('O numero {} é maior que {}'.format(num1,num2))\n",
        "else:\n",
        "  print('O numero {} é maior que {}'.format(num2,num1))"
      ]
    },
    {
      "cell_type": "code",
      "execution_count": null,
      "metadata": {
        "id": "nAFyAsH5-_DY"
      },
      "outputs": [],
      "source": [
        "#EXERCÍCIO 5\n",
        "\n",
        "num1 = float(input(\"Digite o primeiro número: \"))\n",
        "num2 = float(input(\"Digite o segundo número: \"))\n",
        "\n",
        "while num1 == num2:\n",
        "    print(\"Os números não podem ser iguais, digite novamente.\")\n",
        "    num2 = float(input(\"Digite o segundo número novamente: \"))\n",
        "\n",
        "if num1 > num2:\n",
        "    print(\"O número {} é maior que {}\".format(num1, num2))\n",
        "else:\n",
        "    print(\"O número {} é maior que {}\".format(num2, num1))\n"
      ]
    },
    {
      "cell_type": "code",
      "execution_count": 11,
      "metadata": {
        "id": "6LE7D-VoBVw7"
      },
      "outputs": [
        {
          "name": "stdout",
          "output_type": "stream",
          "text": [
            "O número é menor.\n",
            "Parabéns! Você acertou o número. O número era 7.\n"
          ]
        }
      ],
      "source": [
        "#EXERCÍCIO 6\n",
        "\n",
        "AdivinharNumero = 7\n",
        "\n",
        "while True:\n",
        "    chute = int(input(\"Adivinhe o número de 0 até 10: \"))\n",
        "    if chute == AdivinharNumero:\n",
        "        print(\"Você acertou o número, o número era {}.\".format(AdivinharNumero))\n",
        "        break\n",
        "    elif chute < AdivinharNumero:\n",
        "        print(\"O número é maior.\")\n",
        "    else:\n",
        "        print(\"O número é menor.\")\n",
        "\n"
      ]
    },
    {
      "cell_type": "code",
      "execution_count": 13,
      "metadata": {
        "id": "Y2Lx7XY9BXE5"
      },
      "outputs": [
        {
          "name": "stdout",
          "output_type": "stream",
          "text": [
            "O número é maior\n",
            "Você ainda tem 3 tentativas.\n",
            "\n",
            "O número é maior\n",
            "Você ainda tem 2 tentativas.\n",
            "\n",
            "Você acertou\n"
          ]
        }
      ],
      "source": [
        "#EXERCÍCIO 7\n",
        "\n",
        "import random\n",
        "\n",
        "numero_de_tentativas = 4\n",
        "\n",
        "AdivinharNumero = random.randrange(0, 11)\n",
        "\n",
        "tentativas = numero_de_tentativas\n",
        "\n",
        "while tentativas > 0:\n",
        "    chute = int(input(\"Adivinhe o número de 0 até 10: \"))\n",
        "    if chute == AdivinharNumero:\n",
        "        print(\"Você acertou\")\n",
        "        break\n",
        "    elif chute < AdivinharNumero:\n",
        "        print(\"O número é maior\")\n",
        "    else:\n",
        "        print(\"O número é menor\")\n",
        "    tentativas -= 1\n",
        "    print(\"Você ainda tem {} tentativas.\\n\".format(tentativas))\n",
        "\n",
        "if tentativas == 0:\n",
        "    print(\"Sorry man, acabou as tentativas =/\")\n"
      ]
    }
  ],
  "metadata": {
    "colab": {
      "provenance": []
    },
    "kernelspec": {
      "display_name": "Python 3",
      "name": "python3"
    },
    "language_info": {
      "codemirror_mode": {
        "name": "ipython",
        "version": 3
      },
      "file_extension": ".py",
      "mimetype": "text/x-python",
      "name": "python",
      "nbconvert_exporter": "python",
      "pygments_lexer": "ipython3",
      "version": "3.12.1"
    }
  },
  "nbformat": 4,
  "nbformat_minor": 0
}
