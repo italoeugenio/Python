{
 "cells": [
  {
   "cell_type": "code",
   "metadata": {
    "id": "RuDFsNjs_3Sp"
   },
   "source": [
    "#EXERCÍCIO 1\n",
    "\n"
   ],
   "outputs": [],
   "execution_count": null
  },
  {
   "cell_type": "code",
   "metadata": {
    "id": "2G8Br9RH3-eW"
   },
   "source": [
    "#EXERCÍCIO 2\n",
    "raio = float(input(\"Digite o raio do circulo para saber a área:\"))\n",
    "area = 3.1415 * (raio * raio)\n",
    "print(area)"
   ],
   "outputs": [],
   "execution_count": null
  },
  {
   "cell_type": "code",
   "metadata": {
    "colab": {
     "base_uri": "https://localhost:8080/"
    },
    "id": "M98xgxM55maF",
    "outputId": "75dffb78-a20b-4103-b0b3-7405442bde9a"
   },
   "source": [
    "#EXERCÍCIO 3\n",
    "raio = float(input(\"Digite o raio do círculo para saber a área:\"))\n",
    "area = 3.1415 * pow(raio,2)\n",
    "print(f\"{area:.2f} é a área do círculo\")"
   ],
   "outputs": [],
   "execution_count": null
  },
  {
   "cell_type": "code",
   "metadata": {
    "colab": {
     "base_uri": "https://localhost:8080/"
    },
    "id": "REFHKnw38tVZ",
    "outputId": "55b80c5c-f512-47f6-cba7-115fce99f07b",
    "ExecuteTime": {
     "end_time": "2024-04-06T17:45:52.520766Z",
     "start_time": "2024-04-06T17:45:42.058033Z"
    }
   },
   "source": [
    "#EXERCÍCIO 4\n",
    "\n",
    "num1 = float(input(\"Digite o primeiro número:\"))\n",
    "num2 = float(input(\"Digite o segundo número:\"))\n",
    "\n",
    "if num1 > num2:\n",
    "  print('O numero {} é maior que {}'.format(num1,num2))\n",
    "else:\n",
    "  print('O numero {} é maior que {}'.format(num2,num1))"
   ],
   "outputs": [
    {
     "name": "stdout",
     "output_type": "stream",
     "text": [
      "O numero 23.0 é maior que 5.0\n"
     ]
    }
   ],
   "execution_count": 2
  },
  {
   "cell_type": "code",
   "metadata": {
    "id": "nAFyAsH5-_DY"
   },
   "source": [
    "#EXERCÍCIO 5\n",
    "\n",
    "num1 = float(input(\"Digite o primeiro número: \"))\n",
    "num2 = float(input(\"Digite o segundo número: \"))\n",
    "\n",
    "while num1 == num2:\n",
    "    print(\"Os números não podem ser iguais, digite novamente.\")\n",
    "    num2 = float(input(\"Digite o segundo número novamente: \"))\n",
    "\n",
    "if num1 > num2:\n",
    "    print(\"O número {} é maior que {}\".format(num1, num2))\n",
    "else:\n",
    "    print(\"O número {} é maior que {}\".format(num2, num1))\n"
   ],
   "outputs": [],
   "execution_count": null
  },
  {
   "cell_type": "code",
   "metadata": {
    "id": "6LE7D-VoBVw7"
   },
   "source": [
    "#EXERCÍCIO 6\n",
    "\n",
    "AdivinharNumero = 7\n",
    "\n",
    "while True:\n",
    "    chute = int(input(\"Adivinhe o número de 0 até 10: \"))\n",
    "    if chute == AdivinharNumero:\n",
    "        print(\"Você acertou o número, o número era {}.\".format(AdivinharNumero))\n",
    "        break\n",
    "    elif chute < AdivinharNumero:\n",
    "        print(\"O número é maior.\")\n",
    "    else:\n",
    "        print(\"O número é menor.\")\n",
    "\n"
   ],
   "outputs": [],
   "execution_count": null
  },
  {
   "cell_type": "code",
   "metadata": {
    "id": "Y2Lx7XY9BXE5"
   },
   "source": [
    "#EXERCÍCIO 7\n",
    "\n",
    "import random\n",
    "\n",
    "numero_de_tentativas = 4\n",
    "\n",
    "AdivinharNumero = random.randrange(0, 11)\n",
    "\n",
    "tentativas = numero_de_tentativas\n",
    "\n",
    "while tentativas > 0:\n",
    "    chute = int(input(\"Adivinhe o número de 0 até 10: \"))\n",
    "    if chute == AdivinharNumero:\n",
    "        print(\"Você acertou\")\n",
    "        break\n",
    "    elif chute < AdivinharNumero:\n",
    "        print(\"O número é maior\")\n",
    "    else:\n",
    "        print(\"O número é menor\")\n",
    "    tentativas -= 1\n",
    "    print(\"Você ainda tem {} tentativas.\\n\".format(tentativas))\n",
    "\n",
    "if tentativas == 0:\n",
    "    print(\"Sorry man, acabou as tentativas =/\")\n"
   ],
   "outputs": [],
   "execution_count": null
  }
 ],
 "metadata": {
  "colab": {
   "provenance": []
  },
  "kernelspec": {
   "display_name": "Python 3 (ipykernel)",
   "name": "python3",
   "language": "python"
  },
  "language_info": {
   "codemirror_mode": {
    "name": "ipython",
    "version": 3
   },
   "file_extension": ".py",
   "mimetype": "text/x-python",
   "name": "python",
   "nbconvert_exporter": "python",
   "pygments_lexer": "ipython3",
   "version": "3.12.1"
  }
 },
 "nbformat": 4,
 "nbformat_minor": 0
}
