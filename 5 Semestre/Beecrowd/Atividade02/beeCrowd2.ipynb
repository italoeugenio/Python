{
 "cells": [
  {
   "cell_type": "code",
   "execution_count": null,
   "metadata": {},
   "outputs": [],
   "source": [
    "#Exercício 1015 (Fiz normal)\n",
    "\n",
    "import math\n",
    "\n",
    "x1, y1 = float(input()), float(input())\n",
    "x2, y2 = float(input()), float(input())\n",
    "\n",
    "# Calculando a distância\n",
    "distancia = math.sqrt((x2 - x1)**2 + (y2 - y1)**2)\n",
    "\n",
    "print(\"{:.4f}\" .format(distancia))\n"
   ]
  },
  {
   "cell_type": "code",
   "execution_count": null,
   "metadata": {},
   "outputs": [],
   "source": [
    "#Exercício 1015 (Adaptado para o Beecrowd)\n",
    "import math\n",
    "\n",
    "x1, y1 = map(float, input().split())\n",
    "x2, y2 = map(float, input().split())\n",
    "\n",
    "# Calculando a distância\n",
    "distancia = math.sqrt((x2 - x1)**2 + (y2 - y1)**2)\n",
    "\n",
    "print(\"{:.4f}\".format(distancia))"
   ]
  },
  {
   "cell_type": "code",
   "execution_count": null,
   "metadata": {},
   "outputs": [],
   "source": [
    "#Exercício 1018 \n",
    "\n",
    "valor = int(input())\n",
    "\n",
    "if 0 < valor < 1000000:\n",
    "    notas = [100, 50, 20, 10, 5, 2, 1]\n",
    "\n",
    "    print(valor)\n",
    "\n",
    "    for nota in notas:\n",
    "        count = valor // nota\n",
    "        valor %= nota\n",
    "        print(f\"{count} nota(s) de R$ {nota},00\")\n",
    "else:\n",
    "    print(\"Valor não está entre N (0 < N < 1000000\")\n"
   ]
  },
  {
   "cell_type": "code",
   "execution_count": null,
   "metadata": {},
   "outputs": [],
   "source": [
    "#Exercício 1037\n",
    "\n",
    "valor = float(input().split())\n",
    "\n",
    "if 0 <= valor <= 25:\n",
    "    print(\"Intervalo [0,25]\")\n",
    "elif 25 < valor <= 50:\n",
    "    print(\"Intervalo (25,50]\")\n",
    "elif 50 < valor <= 75:\n",
    "    print(\"Intervalo (50,75]\")\n",
    "elif 75 < valor <= 100:\n",
    "    print(\"Intervalo (75,100]\")\n",
    "else:\n",
    "    print(\"Fora de intervalo\")\n"
   ]
  },
  {
   "cell_type": "code",
   "execution_count": null,
   "metadata": {},
   "outputs": [],
   "source": [
    "#Exercício 1042\n",
    "\n",
    "num1, num2, num3 = map(int, input().split())\n",
    "valores = [num1, num2, num3]\n",
    "numerosOrdenados = sorted(valores)\n",
    "\n",
    "for valor in numerosOrdenados:\n",
    "    print(valor)\n",
    "\n",
    "print()\n",
    "\n",
    "for valor in valores:\n",
    "    print(valor)"
   ]
  },
  {
   "cell_type": "code",
   "execution_count": null,
   "metadata": {},
   "outputs": [],
   "source": [
    "#Exercício 1080 (Fiz normal)\n",
    "\n",
    "valores = []\n",
    "i = 0\n",
    "\n",
    "while i < 100:\n",
    "    valor = list(map(int, input().split()))\n",
    "    if valor not in valores:\n",
    "        valores.append(valor)\n",
    "        i += 1\n",
    "    else:\n",
    "        print()\n",
    "\n",
    "maior_valor = max(valores)\n",
    "posicao = valores.index(maior_valor) + 1\n",
    "\n",
    "\n",
    "for num in maior_valor:\n",
    "    print(num)\n",
    "print(posicao)\n"
   ]
  },
  {
   "cell_type": "code",
   "execution_count": null,
   "metadata": {},
   "outputs": [],
   "source": [
    "#Exercício 1080 (Adaptado para o Beecrowd)\n",
    "valores = []\n",
    "i = 0\n",
    "\n",
    "while i < 100:\n",
    "    valor = int(input())\n",
    "    valores.append(valor)\n",
    "    i += 1\n",
    "\n",
    "maior_valor = max(valores)\n",
    "posicao = valores.index(maior_valor) + 1\n",
    "\n",
    "print(maior_valor)\n",
    "print(posicao)\n"
   ]
  }
 ],
 "metadata": {
  "kernelspec": {
   "display_name": "Python 3",
   "language": "python",
   "name": "python3"
  },
  "language_info": {
   "codemirror_mode": {
    "name": "ipython",
    "version": 3
   },
   "file_extension": ".py",
   "mimetype": "text/x-python",
   "name": "python",
   "nbconvert_exporter": "python",
   "pygments_lexer": "ipython3",
   "version": "3.12.1"
  }
 },
 "nbformat": 4,
 "nbformat_minor": 2
}
